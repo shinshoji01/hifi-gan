{
 "cells": [
  {
   "cell_type": "code",
   "execution_count": null,
   "id": "0",
   "metadata": {},
   "outputs": [],
   "source": [
    "import numpy as np\n",
    "import os\n",
    "import glob\n",
    "from librosa.filters import mel as librosa_mel_fn\n",
    "\n",
    "import joblib\n",
    "import glob\n",
    "datasplitARCTIC = list(np.load(\"../../seq2seq-vc/notebooks/data_split_ARCTIC.npy\", allow_pickle=True))\n",
    "datasplitVCTK = list(np.load(\"../../seq2seq-vc/notebooks/data_split_VCTK.npy\", allow_pickle=True))\n",
    "datasplit = []\n",
    "for i in range(3):\n",
    "    datasplit += [datasplitARCTIC[i]+datasplitVCTK[i]]"
   ]
  },
  {
   "cell_type": "code",
   "execution_count": null,
   "id": "1",
   "metadata": {},
   "outputs": [],
   "source": [
    "base_dir = \"/mntcephfs/\"\n",
    "audio_dirs = {\n",
    "    \"LibriTTS\": \"/mntcephfs/lee_dataset/tts/LibriTTS_R/\",\n",
    "    \"L2-ARCTIC\": \"/mntcephfs/lab_data/shoinoue/Dataset/L2-ARCTIC/\",\n",
    "    \"CMU-ARCTIC\": \"/mntcephfs/lab_data/shoinoue/Dataset/CMU-ARCTIC/\",\n",
    "    \"SPAccenT_ARCTIC\": \"/mntcephfs/lab_data/shoinoue/Dataset/PD-AST/SLT/\",\n",
    "    \"SPAccenT_VCTK\": \"/mntcephfs/lab_data/shoinoue/Dataset/PD-AST/SLT_add/\",\n",
    "}\n",
    "mode_list = [\"train\", \"dev\", \"test\"]"
   ]
  },
  {
   "cell_type": "code",
   "execution_count": null,
   "id": "2",
   "metadata": {},
   "outputs": [],
   "source": []
  },
  {
   "cell_type": "code",
   "execution_count": null,
   "id": "3",
   "metadata": {},
   "outputs": [],
   "source": [
    "save = True\n",
    "target_dir = \"../LibriTTS_ARCTIC_SPAccenT/\"\n",
    "\n",
    "for mode in mode_list:\n",
    "    print(mode)\n",
    "    arcticfiles = datasplit[mode_list.index(mode)]\n",
    "    fulltext = \"\" \n",
    "    for key in audio_dirs:\n",
    "        audio_dir = audio_dirs[key]\n",
    "        # if key!=\"LibriTTS\" and mode in [\"dev\", \"test\"]:\n",
    "        #     continue\n",
    "        if key==\"LibriTTS\":\n",
    "            spks = [os.path.basename(a) for a in glob.glob(audio_dir + f\"{mode}*/*\")]\n",
    "            files = []\n",
    "            for spk in spks:\n",
    "                files += glob.glob(audio_dir + f\"{mode}*/{spk}/*/*.wav\")\n",
    "        elif key in [\"L2-ARCTIC\", \"CMU-ARCTIC\", \"SPAccenT_ARCTIC\", \"SPAccenT_VCTK\"]:\n",
    "            spks = [os.path.basename(a) for a in glob.glob(audio_dir + f\"*\")]\n",
    "            try:\n",
    "                spks.remove(\"suitcase_corpus\")\n",
    "            except ValueError:\n",
    "                pass\n",
    "            files = []\n",
    "            for spk in spks:\n",
    "                files += glob.glob(audio_dir + f\"{spk}/wav/*.wav\")\n",
    "            new_files = []\n",
    "            for path in files:\n",
    "                bn = os.path.basename(path)[:-4]\n",
    "                if bn in arcticfiles:\n",
    "                    new_files += [path]\n",
    "            files = new_files\n",
    "        files.sort()\n",
    "        files = files[::10] if mode in [\"dev\", \"test\"] else files\n",
    "        print(f\"{key}: {len(files)}\")\n",
    "        for fn in files:\n",
    "            name = fn[len(base_dir):-4]\n",
    "            fulltext += f\"{name}|unchi\\n\"\n",
    "    if save:\n",
    "        if mode==\"train\":\n",
    "            modename = \"training\"\n",
    "        elif mode==\"dev\":\n",
    "            modename = \"validation\"\n",
    "        elif mode==\"test\":\n",
    "            modename = \"test\"\n",
    "        f = open(f\"{target_dir}{modename}.txt\", \"w\")\n",
    "        f.write(fulltext)\n",
    "        f.close()\n",
    "    print()"
   ]
  },
  {
   "cell_type": "code",
   "execution_count": null,
   "id": "4",
   "metadata": {},
   "outputs": [],
   "source": []
  },
  {
   "cell_type": "code",
   "execution_count": null,
   "id": "5",
   "metadata": {},
   "outputs": [],
   "source": []
  }
 ],
 "metadata": {
  "kernelspec": {
   "display_name": "Python 3 (ipykernel)",
   "language": "python",
   "name": "python3"
  },
  "language_info": {
   "codemirror_mode": {
    "name": "ipython",
    "version": 3
   },
   "file_extension": ".py",
   "mimetype": "text/x-python",
   "name": "python",
   "nbconvert_exporter": "python",
   "pygments_lexer": "ipython3",
   "version": "3.8.19"
  }
 },
 "nbformat": 4,
 "nbformat_minor": 5
}
